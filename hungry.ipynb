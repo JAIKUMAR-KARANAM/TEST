{
 "cells": [
  {
   "cell_type": "code",
   "execution_count": 1,
   "id": "3461ff6b",
   "metadata": {},
   "outputs": [
    {
     "name": "stdout",
     "output_type": "stream",
     "text": [
      " i m hungry\n"
     ]
    }
   ],
   "source": [
    "print(\" i m hungry\")"
   ]
  },
  {
   "cell_type": "code",
   "execution_count": null,
   "id": "eb3abc65",
   "metadata": {},
   "outputs": [],
   "source": []
  }
 ],
 "metadata": {
  "kernelspec": {
   "display_name": "Python 3 (ipykernel)",
   "language": "python",
   "name": "python3"
  },
  "language_info": {
   "codemirror_mode": {
    "name": "ipython",
    "version": 3
   },
   "file_extension": ".py",
   "mimetype": "text/x-python",
   "name": "python",
   "nbconvert_exporter": "python",
   "pygments_lexer": "ipython3",
   "version": "3.9.12"
  }
 },
 "nbformat": 4,
 "nbformat_minor": 5
}
